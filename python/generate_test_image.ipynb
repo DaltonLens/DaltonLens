{
 "cells": [
  {
   "cell_type": "code",
   "execution_count": null,
   "id": "extended-length",
   "metadata": {},
   "outputs": [],
   "source": [
    "import io, math, os, sys\n",
    "from base64 import b64decode\n",
    "from pathlib import Path\n",
    "\n",
    "import matplotlib\n",
    "import matplotlib.pyplot as plt\n",
    "import numpy as np\n",
    "import mplcursors\n",
    "\n",
    "import PIL\n",
    "\n",
    "import itertools\n",
    "import cv2"
   ]
  },
  {
   "cell_type": "code",
   "execution_count": null,
   "id": "joint-ready",
   "metadata": {},
   "outputs": [],
   "source": [
    "root_path = Path(\"/home/nb/Perso/DaltonLens/python\")\n",
    "\n",
    "\n",
    "steps_per_channel = 8\n",
    "steps = [*range(0,256,256//steps_per_channel), 255]\n",
    "print (steps)\n",
    "n = len(steps)\n",
    "\n",
    "# same as 27x27\n",
    "n_pixels = 9*9*9\n",
    "\n",
    "\n",
    "im = np.zeros((27,27,3), dtype=np.uint8)\n",
    "for r in range(0, 27):\n",
    "    for c in range(0, 27):        \n",
    "        r_idx = r%9\n",
    "        g_idx = c%9\n",
    "        b_idx = (c//9) + (r//9)*3\n",
    "        im[r,c,:] = (steps[r_idx], steps[g_idx], steps[b_idx])\n",
    "\n",
    "im = cv2.resize(im, dsize=(27*8, 27*8), interpolation=cv2.INTER_NEAREST)\n",
    "        \n",
    "fig, ax = plt.subplots(figsize=(16, 16))\n",
    "ax.imshow(im)\n",
    "\n",
    "matplotlib.image.imsave('rgbColorSpan.png', im)"
   ]
  },
  {
   "cell_type": "code",
   "execution_count": null,
   "id": "fbedbbb7",
   "metadata": {},
   "outputs": [],
   "source": [
    "27*8"
   ]
  }
 ],
 "metadata": {
  "kernelspec": {
   "display_name": "Python 3 (ipykernel)",
   "language": "python",
   "name": "python3"
  },
  "language_info": {
   "codemirror_mode": {
    "name": "ipython",
    "version": 3
   },
   "file_extension": ".py",
   "mimetype": "text/x-python",
   "name": "python",
   "nbconvert_exporter": "python",
   "pygments_lexer": "ipython3",
   "version": "3.8.10"
  }
 },
 "nbformat": 4,
 "nbformat_minor": 5
}
